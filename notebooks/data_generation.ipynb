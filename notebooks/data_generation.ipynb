{
 "cells": [
  {
   "cell_type": "code",
   "execution_count": 11,
   "metadata": {},
   "outputs": [],
   "source": [
    "import pyrootutils\n",
    "root = pyrootutils.setup_root(\".\", pythonpath=True, cwd=True)"
   ]
  },
  {
   "cell_type": "code",
   "execution_count": 12,
   "metadata": {},
   "outputs": [],
   "source": [
    "import pandas as pd\n",
    "import numpy as np\n",
    "import torch\n",
    "from torchvision.transforms import transforms\n",
    "from torch.utils.data import DataLoader, Dataset, random_split\n",
    "from PIL import Image, ImageOps\n",
    "import os\n",
    "from tqdm import tqdm\n",
    "import rich\n",
    "from collections import Counter\n",
    "import matplotlib.pyplot as plt"
   ]
  },
  {
   "cell_type": "code",
   "execution_count": 13,
   "metadata": {},
   "outputs": [],
   "source": [
    "from src.data.face_age_dataset import FaceAgeDataset"
   ]
  },
  {
   "cell_type": "code",
   "execution_count": 14,
   "metadata": {},
   "outputs": [],
   "source": [
    "class cfg:\n",
    "    img_size = (224, 224)\n",
    "    max_age = 80\n",
    "    val_size = 1600\n",
    "    test_size = 1600\n",
    "    max_imgs_per_class = 700\n",
    "    oversample_with_augmentation = True"
   ]
  },
  {
   "cell_type": "code",
   "execution_count": 15,
   "metadata": {},
   "outputs": [],
   "source": [
    "imagenet_mean = (0.485, 0.456, 0.406)\n",
    "imagenet_std = (0.229, 0.224, 0.225)\n",
    "transform = [transforms.Normalize(imagenet_mean, imagenet_std)]\n",
    "\n",
    "ds = FaceAgeDataset(\n",
    "    data_dir=\"data/\",\n",
    "    img_size=cfg.img_size,\n",
    "    label_clipping=(1, cfg.max_age),\n",
    "    normalize_labels=False,\n",
    "    transform=transform,\n",
    ")"
   ]
  },
  {
   "cell_type": "code",
   "execution_count": 16,
   "metadata": {},
   "outputs": [
    {
     "data": {
      "text/plain": [
       "(torch.Size([3, 224, 224]), torch.Size([1]), 0)"
      ]
     },
     "execution_count": 16,
     "metadata": {},
     "output_type": "execute_result"
    }
   ],
   "source": [
    "x, y, idx = ds[0]\n",
    "x.shape, y.shape, idx"
   ]
  },
  {
   "cell_type": "code",
   "execution_count": 17,
   "metadata": {},
   "outputs": [],
   "source": [
    "# create folders for new dataset\n",
    "os.makedirs(\"data/face_age_dataset/train\", exist_ok=True)\n",
    "os.makedirs(\"data/face_age_dataset/val\", exist_ok=True)\n",
    "os.makedirs(\"data/face_age_dataset/test\", exist_ok=True)"
   ]
  },
  {
   "cell_type": "code",
   "execution_count": 18,
   "metadata": {},
   "outputs": [],
   "source": [
    "imgs_per_val_class = int(cfg.val_size / cfg.max_age)\n",
    "imgs_per_test_class = int(cfg.test_size / cfg.max_age)\n",
    "\n",
    "used_idxs = set()"
   ]
  },
  {
   "attachments": {},
   "cell_type": "markdown",
   "metadata": {},
   "source": [
    "### Generate validation set"
   ]
  },
  {
   "cell_type": "code",
   "execution_count": 19,
   "metadata": {},
   "outputs": [
    {
     "name": "stderr",
     "output_type": "stream",
     "text": [
      "100%|██████████| 23708/23708 [00:19<00:00, 1207.00it/s]"
     ]
    },
    {
     "name": "stdout",
     "output_type": "stream",
     "text": [
      "Val imgs: 1600\n"
     ]
    },
    {
     "name": "stderr",
     "output_type": "stream",
     "text": [
      "\n"
     ]
    }
   ],
   "source": [
    "class_counts_val = Counter()\n",
    "\n",
    "for x, y, idx in tqdm(DataLoader(ds, shuffle=True)):\n",
    "    idx = int(idx)\n",
    "    y = int(y)\n",
    "    count = class_counts_val[y]\n",
    "    \n",
    "    if count < imgs_per_val_class:\n",
    "        class_counts_val[y] += 1\n",
    "        used_idxs.add(idx)\n",
    "        x = x.squeeze(0)\n",
    "        torch.save(x, f\"data/face_age_dataset/val/{idx}_age_{y}.pt\")\n",
    "        \n",
    "print(\"Val imgs:\", sum(class_counts_val.values()))"
   ]
  },
  {
   "attachments": {},
   "cell_type": "markdown",
   "metadata": {},
   "source": [
    "### Generate test set"
   ]
  },
  {
   "cell_type": "code",
   "execution_count": 20,
   "metadata": {},
   "outputs": [
    {
     "name": "stderr",
     "output_type": "stream",
     "text": [
      " 12%|█▏        | 2943/23708 [00:02<00:19, 1044.16it/s]\n"
     ]
    },
    {
     "ename": "KeyboardInterrupt",
     "evalue": "",
     "output_type": "error",
     "traceback": [
      "\u001b[0;31m---------------------------------------------------------------------------\u001b[0m",
      "\u001b[0;31mKeyboardInterrupt\u001b[0m                         Traceback (most recent call last)",
      "Cell \u001b[0;32mIn [20], line 3\u001b[0m\n\u001b[1;32m      1\u001b[0m class_counts_test \u001b[39m=\u001b[39m Counter()\n\u001b[0;32m----> 3\u001b[0m \u001b[39mfor\u001b[39;00m x, y, idx \u001b[39min\u001b[39;00m tqdm(DataLoader(ds, shuffle\u001b[39m=\u001b[39m\u001b[39mTrue\u001b[39;00m)):\n\u001b[1;32m      4\u001b[0m     idx \u001b[39m=\u001b[39m \u001b[39mint\u001b[39m(idx)\n\u001b[1;32m      5\u001b[0m     y \u001b[39m=\u001b[39m \u001b[39mint\u001b[39m(y)\n",
      "File \u001b[0;32m~/opt/miniconda3/envs/myenv/lib/python3.9/site-packages/tqdm/std.py:1195\u001b[0m, in \u001b[0;36mtqdm.__iter__\u001b[0;34m(self)\u001b[0m\n\u001b[1;32m   1192\u001b[0m time \u001b[39m=\u001b[39m \u001b[39mself\u001b[39m\u001b[39m.\u001b[39m_time\n\u001b[1;32m   1194\u001b[0m \u001b[39mtry\u001b[39;00m:\n\u001b[0;32m-> 1195\u001b[0m     \u001b[39mfor\u001b[39;00m obj \u001b[39min\u001b[39;00m iterable:\n\u001b[1;32m   1196\u001b[0m         \u001b[39myield\u001b[39;00m obj\n\u001b[1;32m   1197\u001b[0m         \u001b[39m# Update and possibly print the progressbar.\u001b[39;00m\n\u001b[1;32m   1198\u001b[0m         \u001b[39m# Note: does not call self.update(1) for speed optimisation.\u001b[39;00m\n",
      "File \u001b[0;32m~/opt/miniconda3/envs/myenv/lib/python3.9/site-packages/torch/utils/data/dataloader.py:681\u001b[0m, in \u001b[0;36m_BaseDataLoaderIter.__next__\u001b[0;34m(self)\u001b[0m\n\u001b[1;32m    678\u001b[0m \u001b[39mif\u001b[39;00m \u001b[39mself\u001b[39m\u001b[39m.\u001b[39m_sampler_iter \u001b[39mis\u001b[39;00m \u001b[39mNone\u001b[39;00m:\n\u001b[1;32m    679\u001b[0m     \u001b[39m# TODO(https://github.com/pytorch/pytorch/issues/76750)\u001b[39;00m\n\u001b[1;32m    680\u001b[0m     \u001b[39mself\u001b[39m\u001b[39m.\u001b[39m_reset()  \u001b[39m# type: ignore[call-arg]\u001b[39;00m\n\u001b[0;32m--> 681\u001b[0m data \u001b[39m=\u001b[39m \u001b[39mself\u001b[39;49m\u001b[39m.\u001b[39;49m_next_data()\n\u001b[1;32m    682\u001b[0m \u001b[39mself\u001b[39m\u001b[39m.\u001b[39m_num_yielded \u001b[39m+\u001b[39m\u001b[39m=\u001b[39m \u001b[39m1\u001b[39m\n\u001b[1;32m    683\u001b[0m \u001b[39mif\u001b[39;00m \u001b[39mself\u001b[39m\u001b[39m.\u001b[39m_dataset_kind \u001b[39m==\u001b[39m _DatasetKind\u001b[39m.\u001b[39mIterable \u001b[39mand\u001b[39;00m \\\n\u001b[1;32m    684\u001b[0m         \u001b[39mself\u001b[39m\u001b[39m.\u001b[39m_IterableDataset_len_called \u001b[39mis\u001b[39;00m \u001b[39mnot\u001b[39;00m \u001b[39mNone\u001b[39;00m \u001b[39mand\u001b[39;00m \\\n\u001b[1;32m    685\u001b[0m         \u001b[39mself\u001b[39m\u001b[39m.\u001b[39m_num_yielded \u001b[39m>\u001b[39m \u001b[39mself\u001b[39m\u001b[39m.\u001b[39m_IterableDataset_len_called:\n",
      "File \u001b[0;32m~/opt/miniconda3/envs/myenv/lib/python3.9/site-packages/torch/utils/data/dataloader.py:721\u001b[0m, in \u001b[0;36m_SingleProcessDataLoaderIter._next_data\u001b[0;34m(self)\u001b[0m\n\u001b[1;32m    719\u001b[0m \u001b[39mdef\u001b[39;00m \u001b[39m_next_data\u001b[39m(\u001b[39mself\u001b[39m):\n\u001b[1;32m    720\u001b[0m     index \u001b[39m=\u001b[39m \u001b[39mself\u001b[39m\u001b[39m.\u001b[39m_next_index()  \u001b[39m# may raise StopIteration\u001b[39;00m\n\u001b[0;32m--> 721\u001b[0m     data \u001b[39m=\u001b[39m \u001b[39mself\u001b[39;49m\u001b[39m.\u001b[39;49m_dataset_fetcher\u001b[39m.\u001b[39;49mfetch(index)  \u001b[39m# may raise StopIteration\u001b[39;00m\n\u001b[1;32m    722\u001b[0m     \u001b[39mif\u001b[39;00m \u001b[39mself\u001b[39m\u001b[39m.\u001b[39m_pin_memory:\n\u001b[1;32m    723\u001b[0m         data \u001b[39m=\u001b[39m _utils\u001b[39m.\u001b[39mpin_memory\u001b[39m.\u001b[39mpin_memory(data, \u001b[39mself\u001b[39m\u001b[39m.\u001b[39m_pin_memory_device)\n",
      "File \u001b[0;32m~/opt/miniconda3/envs/myenv/lib/python3.9/site-packages/torch/utils/data/_utils/fetch.py:52\u001b[0m, in \u001b[0;36m_MapDatasetFetcher.fetch\u001b[0;34m(self, possibly_batched_index)\u001b[0m\n\u001b[1;32m     50\u001b[0m \u001b[39melse\u001b[39;00m:\n\u001b[1;32m     51\u001b[0m     data \u001b[39m=\u001b[39m \u001b[39mself\u001b[39m\u001b[39m.\u001b[39mdataset[possibly_batched_index]\n\u001b[0;32m---> 52\u001b[0m \u001b[39mreturn\u001b[39;00m \u001b[39mself\u001b[39;49m\u001b[39m.\u001b[39;49mcollate_fn(data)\n",
      "File \u001b[0;32m~/opt/miniconda3/envs/myenv/lib/python3.9/site-packages/torch/utils/data/_utils/collate.py:158\u001b[0m, in \u001b[0;36mdefault_collate\u001b[0;34m(batch)\u001b[0m\n\u001b[1;32m    156\u001b[0m \u001b[39melif\u001b[39;00m \u001b[39misinstance\u001b[39m(elem, string_classes):\n\u001b[1;32m    157\u001b[0m     \u001b[39mreturn\u001b[39;00m batch\n\u001b[0;32m--> 158\u001b[0m \u001b[39melif\u001b[39;00m \u001b[39misinstance\u001b[39;49m(elem, collections\u001b[39m.\u001b[39;49mabc\u001b[39m.\u001b[39;49mMapping):\n\u001b[1;32m    159\u001b[0m     \u001b[39mtry\u001b[39;00m:\n\u001b[1;32m    160\u001b[0m         \u001b[39mreturn\u001b[39;00m elem_type({key: default_collate([d[key] \u001b[39mfor\u001b[39;00m d \u001b[39min\u001b[39;00m batch]) \u001b[39mfor\u001b[39;00m key \u001b[39min\u001b[39;00m elem})\n",
      "File \u001b[0;32m~/opt/miniconda3/envs/myenv/lib/python3.9/abc.py:119\u001b[0m, in \u001b[0;36mABCMeta.__instancecheck__\u001b[0;34m(cls, instance)\u001b[0m\n\u001b[1;32m    117\u001b[0m \u001b[39mdef\u001b[39;00m \u001b[39m__instancecheck__\u001b[39m(\u001b[39mcls\u001b[39m, instance):\n\u001b[1;32m    118\u001b[0m     \u001b[39m\"\"\"Override for isinstance(instance, cls).\"\"\"\u001b[39;00m\n\u001b[0;32m--> 119\u001b[0m     \u001b[39mreturn\u001b[39;00m _abc_instancecheck(\u001b[39mcls\u001b[39;49m, instance)\n",
      "\u001b[0;31mKeyboardInterrupt\u001b[0m: "
     ]
    }
   ],
   "source": [
    "class_counts_test = Counter()\n",
    "\n",
    "for x, y, idx in tqdm(DataLoader(ds, shuffle=True)):\n",
    "    idx = int(idx)\n",
    "    y = int(y)\n",
    "    count = class_counts_test[y]\n",
    "    \n",
    "    if count < imgs_per_test_class and idx not in used_idxs:\n",
    "        class_counts_test[y] += 1\n",
    "        used_idxs.add(idx)\n",
    "        x = x.squeeze(0)\n",
    "        torch.save(x, f\"data/face_age_dataset/test/{idx}_age_{y}.pt\")\n",
    "        \n",
    "print(\"Test imgs:\", sum(class_counts_test.values()))"
   ]
  },
  {
   "attachments": {},
   "cell_type": "markdown",
   "metadata": {},
   "source": [
    "### Generate train set"
   ]
  },
  {
   "cell_type": "code",
   "execution_count": null,
   "metadata": {},
   "outputs": [
    {
     "name": "stderr",
     "output_type": "stream",
     "text": [
      "100%|██████████| 23708/23708 [00:29<00:00, 808.57it/s]"
     ]
    },
    {
     "name": "stdout",
     "output_type": "stream",
     "text": [
      "Train imgs: 21173\n"
     ]
    },
    {
     "name": "stderr",
     "output_type": "stream",
     "text": [
      "\n"
     ]
    }
   ],
   "source": [
    "class_counts_train = Counter()\n",
    "\n",
    "for x, y, idx in tqdm(DataLoader(ds, shuffle=True)):\n",
    "    idx = int(idx)\n",
    "    y = int(y)\n",
    "    count = class_counts_train[y]\n",
    "    \n",
    "    if count < cfg.max_imgs_per_class and idx not in used_idxs:\n",
    "        class_counts_train[y] += 1\n",
    "        x = x.squeeze(0)\n",
    "        torch.save(x, f\"data/face_age_dataset/train/{idx}_age_{y}.pt\")\n",
    "\n",
    "print(\"Train imgs:\", sum(class_counts_train.values()))"
   ]
  },
  {
   "cell_type": "code",
   "execution_count": null,
   "metadata": {},
   "outputs": [
    {
     "name": "stdout",
     "output_type": "stream",
     "text": [
      "Before augmentation:\n"
     ]
    },
    {
     "data": {
      "image/png": "[encoded data removed]",
      "text/plain": [
       "<Figure size 640x480 with 1 Axes>"
      ]
     },
     "metadata": {},
     "output_type": "display_data"
    },
    {
     "name": "stderr",
     "output_type": "stream",
     "text": [
      "100%|██████████| 80/80 [06:28<00:00,  4.86s/it]"
     ]
    },
    {
     "name": "stdout",
     "output_type": "stream",
     "text": [
      "After augmentation:\n"
     ]
    },
    {
     "name": "stderr",
     "output_type": "stream",
     "text": [
      "\n"
     ]
    },
    {
     "data": {
      "image/png": "[encoded data removed]",
      "text/plain": [
       "<Figure size 640x480 with 1 Axes>"
      ]
     },
     "metadata": {},
     "output_type": "display_data"
    }
   ],
   "source": [
    "print(\"Before augmentation:\")\n",
    "plt.bar(class_counts_train.keys(), class_counts_train.values())\n",
    "plt.show()\n",
    "\n",
    "transform_list = [\n",
    "    transforms.RandomRotation(20),\n",
    "    transforms.RandomVerticalFlip(),\n",
    "    transforms.ColorJitter(brightness=0.1, contrast=0.1, saturation=0.1, hue=0.1),\n",
    "    transforms.RandomAffine(degrees=0, translate=(0.1, 0.1), scale=(0.8, 1.2), shear=10),\n",
    "    transforms.RandomPerspective(distortion_scale=0.2, p=0.5, fill=0),\n",
    "    transforms.RandomErasing(p=0.5, scale=(0.02, 0.33), ratio=(0.3, 3.3), value=0, inplace=False),\n",
    "]\n",
    "transform = transforms.Compose(transform_list)\n",
    "\n",
    "\n",
    "if cfg.oversample_with_augmentation:\n",
    "    os.makedirs(\"data/face_age_dataset/train_augmented\", exist_ok=True)\n",
    "    augmented_imgs_count = 0\n",
    "    \n",
    "    # iterate over labels\n",
    "    for label in tqdm(range(1, cfg.max_age + 1)):\n",
    "        \n",
    "        # load all images for label\n",
    "        img_paths = [x for x in os.listdir(\"data/face_age_dataset/train\") if f\"age_{label}.pt\" in x]\n",
    "        imgs = [torch.load(f\"data/face_age_dataset/train/{x}\") for x in img_paths]\n",
    "        \n",
    "        # augment images while there are less than max_imgs_per_class\n",
    "        augmented_imgs = []\n",
    "        while len(imgs) + len(augmented_imgs) < cfg.max_imgs_per_class:\n",
    "            for img in imgs:\n",
    "                \n",
    "                if len(imgs) + len(augmented_imgs) >= cfg.max_imgs_per_class:\n",
    "                    break\n",
    "                \n",
    "                augmented_imgs_count += 1\n",
    "                class_counts_train[label] += 1\n",
    "                augmented_imgs.append(transform(img))\n",
    "                \n",
    "\n",
    "        # for idx, img in enumerate(imgs):\n",
    "        #     torch.save(img, f\"data/face_age_dataset/train_augmented/{idx}_age_{label}.pt\")\n",
    "            \n",
    "        for idx, img in enumerate(augmented_imgs):\n",
    "            torch.save(img, f\"data/face_age_dataset/train_augmented/augmented_{idx}_age_{label}.pt\")\n",
    "        \n",
    "\n",
    "print(\"After augmentation:\")\n",
    "plt.bar(class_counts_train.keys(), class_counts_train.values())\n",
    "plt.show()"
   ]
  },
  {
   "cell_type": "code",
   "execution_count": null,
   "metadata": {},
   "outputs": [
    {
     "name": "stdout",
     "output_type": "stream",
     "text": [
      "Counter({1: 700, 80: 700, 63: 700, 20: 700, 28: 700, 32: 700, 30: 700, 73: 700, 56: 700, 13: 700, 25: 700, 50: 700, 79: 700, 26: 700, 33: 700, 23: 700, 8: 700, 16: 700, 35: 700, 54: 700, 27: 700, 36: 700, 60: 700, 45: 700, 55: 700, 37: 700, 31: 700, 9: 700, 10: 700, 24: 700, 65: 700, 47: 700, 43: 700, 46: 700, 2: 700, 18: 700, 3: 700, 41: 700, 40: 700, 67: 700, 42: 700, 72: 700, 4: 700, 22: 700, 29: 700, 53: 700, 21: 700, 34: 700, 5: 700, 75: 700, 52: 700, 15: 700, 66: 700, 68: 700, 39: 700, 58: 700, 12: 700, 57: 700, 38: 700, 49: 700, 61: 700, 69: 700, 17: 700, 76: 700, 19: 700, 71: 700, 14: 700, 6: 700, 59: 700, 51: 700, 44: 700, 78: 700, 62: 700, 77: 700, 48: 700, 7: 700, 70: 700, 11: 700, 74: 700, 64: 700})\n",
      "Counter({28: 20, 25: 20, 21: 20, 26: 20, 1: 20, 30: 20, 63: 20, 18: 20, 40: 20, 45: 20, 36: 20, 80: 20, 44: 20, 65: 20, 32: 20, 4: 20, 52: 20, 22: 20, 64: 20, 38: 20, 29: 20, 20: 20, 27: 20, 5: 20, 37: 20, 39: 20, 9: 20, 16: 20, 58: 20, 24: 20, 33: 20, 3: 20, 12: 20, 70: 20, 62: 20, 54: 20, 2: 20, 72: 20, 76: 20, 51: 20, 35: 20, 46: 20, 8: 20, 19: 20, 17: 20, 34: 20, 50: 20, 41: 20, 60: 20, 48: 20, 15: 20, 49: 20, 53: 20, 56: 20, 42: 20, 11: 20, 31: 20, 55: 20, 67: 20, 57: 20, 10: 20, 23: 20, 75: 20, 68: 20, 47: 20, 6: 20, 7: 20, 43: 20, 71: 20, 73: 20, 13: 20, 14: 20, 69: 20, 78: 20, 77: 20, 61: 20, 66: 20, 59: 20, 74: 20, 79: 20})\n",
      "Counter({28: 20, 45: 20, 55: 20, 31: 20, 20: 20, 18: 20, 56: 20, 21: 20, 38: 20, 26: 20, 17: 20, 80: 20, 9: 20, 40: 20, 12: 20, 4: 20, 5: 20, 52: 20, 16: 20, 47: 20, 27: 20, 32: 20, 53: 20, 6: 20, 1: 20, 25: 20, 36: 20, 24: 20, 65: 20, 51: 20, 61: 20, 77: 20, 30: 20, 14: 20, 34: 20, 37: 20, 54: 20, 39: 20, 75: 20, 8: 20, 42: 20, 48: 20, 3: 20, 76: 20, 72: 20, 58: 20, 29: 20, 7: 20, 23: 20, 63: 20, 50: 20, 2: 20, 35: 20, 46: 20, 19: 20, 67: 20, 33: 20, 74: 20, 22: 20, 10: 20, 64: 20, 49: 20, 43: 20, 60: 20, 68: 20, 79: 20, 44: 20, 57: 20, 73: 20, 41: 20, 62: 20, 59: 20, 11: 20, 66: 20, 71: 20, 15: 20, 70: 20, 78: 20, 13: 20, 69: 20})\n",
      "80\n",
      "80\n",
      "80\n",
      "Train imgs: 56000\n",
      "Val imgs: 1600\n",
      "Test imgs: 1600\n"
     ]
    }
   ],
   "source": [
    "print(class_counts_train)\n",
    "print(class_counts_val)\n",
    "print(class_counts_test)\n",
    "\n",
    "print(len(class_counts_train.keys()))\n",
    "print(len(class_counts_val.keys()))\n",
    "print(len(class_counts_test.keys()))\n",
    "\n",
    "print(\"Train imgs:\", sum(class_counts_train.values()))\n",
    "print(\"Val imgs:\", sum(class_counts_val.values()))\n",
    "print(\"Test imgs:\", sum(class_counts_test.values()))"
   ]
  },
  {
   "cell_type": "code",
   "execution_count": null,
   "metadata": {},
   "outputs": [],
   "source": []
  }
 ],
 "metadata": {
  "kernelspec": {
   "display_name": "myenv",
   "language": "python",
   "name": "python3"
  },
  "language_info": {
   "codemirror_mode": {
    "name": "ipython",
    "version": 3
   },
   "file_extension": ".py",
   "mimetype": "text/x-python",
   "name": "python",
   "nbconvert_exporter": "python",
   "pygments_lexer": "ipython3",
   "version": "3.9.13"
  },
  "orig_nbformat": 4,
  "vscode": {
   "interpreter": {
    "hash": "c8bb4dd7ff00fca7c8e4254171e99909a303c03842f517d85c0effa7a3dfad5f"
   }
  }
 },
 "nbformat": 4,
 "nbformat_minor": 2
}
